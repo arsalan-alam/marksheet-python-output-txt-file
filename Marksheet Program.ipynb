{
 "cells": [
  {
   "cell_type": "markdown",
   "metadata": {},
   "source": [
    "# Marksheet"
   ]
  },
  {
   "cell_type": "code",
   "execution_count": 1,
   "metadata": {},
   "outputs": [
    {
     "name": "stdout",
     "output_type": "stream",
     "text": [
      "Enter marks for Maths (0 to 100): 100\n",
      "Enter marks for English (0 to 100): 50\n",
      "Enter marks for Science (0 to 100): 75\n",
      "Your Grade is A\n"
     ]
    }
   ],
   "source": [
    "maths = float(input(\"Enter marks for Maths (0 to 100): \"))\n",
    "english = float(input(\"Enter marks for English (0 to 100): \"))\n",
    "science = float(input(\"Enter marks for Science (0 to 100): \"))\n",
    "scored = maths + english + science\n",
    "total = 300\n",
    "percentage = (scored / total) * 100\n",
    "\n",
    "if percentage <= 100 and percentage >= 80:\n",
    "    result = \"Your Grade is A+\"\n",
    "    print(result)\n",
    "elif percentage <= 79 and percentage >= 70:\n",
    "    result = \"Your Grade is A\"\n",
    "    print(result)\n",
    "elif percentage <= 69 and percentage >= 60:\n",
    "    result = \"Your Grade is B\"\n",
    "    print(result)\n",
    "elif percentage <= 59 and percentage >= 50:\n",
    "    result = \"Your Grade is C\"\n",
    "    print(result)\n",
    "else:\n",
    "    result = \"You Fail\"\n",
    "    print(result)\n",
    "    \n",
    "concat_value = '================= MARKSHEET =================\\n\\n'\n",
    "\n",
    "mark_sheet = {\"Maths\" : maths, \"English\" : english, \"Science\" : science}\n",
    "\n",
    "for subject, marks in mark_sheet.items():\n",
    "    concat_value += subject + ': ' + str(marks) + '\\n'\n",
    "\n",
    "concat_value += \"\\nResult: \" + result\n",
    "\n",
    "# Writing output into txt file...\n",
    "file = open(\"sample.txt\", \"w\")\n",
    "file.write(str(concat_value))\n",
    "file.close()"
   ]
  },
  {
   "cell_type": "code",
   "execution_count": null,
   "metadata": {},
   "outputs": [],
   "source": []
  }
 ],
 "metadata": {
  "kernelspec": {
   "display_name": "Python 3",
   "language": "python",
   "name": "python3"
  },
  "language_info": {
   "codemirror_mode": {
    "name": "ipython",
    "version": 3
   },
   "file_extension": ".py",
   "mimetype": "text/x-python",
   "name": "python",
   "nbconvert_exporter": "python",
   "pygments_lexer": "ipython3",
   "version": "3.7.3"
  }
 },
 "nbformat": 4,
 "nbformat_minor": 2
}
